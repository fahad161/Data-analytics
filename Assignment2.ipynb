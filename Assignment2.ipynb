{
 "cells": [
  {
   "cell_type": "code",
   "execution_count": null,
   "id": "6436d101",
   "metadata": {},
   "outputs": [],
   "source": [
    "## Question 1\n",
    "\n",
    "age = int(input('Write a age Please!'))\n",
    "if 0<= age <= 12:\n",
    "    print('A person is Child')\n",
    "elif 13 <= age <=19:\n",
    "    print('A person is Teenager')\n",
    "elif age <=64:\n",
    "    print('A person is Adult')\n",
    "elif age >= 65:\n",
    "    print('A person is Senior')"
   ]
  },
  {
   "cell_type": "code",
   "execution_count": null,
   "id": "32867928",
   "metadata": {},
   "outputs": [],
   "source": [
    "## Question 2\n",
    "\n",
    "member_ship =input('Enter Customer Validation')\n",
    "amount = int(input('Enter amount'))\n",
    "if member_ship.lower() ==  'permium' and amount >=1000:\n",
    "    print('Eligible for Discount')\n",
    "elif member_ship.lower() == 'regular' and amount >= 2000:\n",
    "    print('Eligible for Discount')\n",
    "else:\n",
    "    print('Not Eligible')"
   ]
  },
  {
   "cell_type": "code",
   "execution_count": null,
   "id": "c01800ac",
   "metadata": {},
   "outputs": [],
   "source": [
    "## Question 3\n",
    "\n",
    "age =int(input('Enter your age:'))\n",
    "citizen_ship =''\n",
    "relgion = 'special'\n",
    "if citizen_ship == 'citizen':\n",
    "    if age >= 18:\n",
    "        print('Eligble For Vote')\n",
    "    elif relgion == 'special' and age >= 16:\n",
    "        print('Eligble For Vote')\n",
    "else:\n",
    "    print ('not Eligable')"
   ]
  },
  {
   "cell_type": "code",
   "execution_count": null,
   "id": "23ed0bdb",
   "metadata": {},
   "outputs": [],
   "source": [
    "## Question 4\n",
    "\n",
    "performance_rating =input('Enter performence')\n",
    " years_of_service= int(input('Enter years of experience'))\n",
    "    # Check the conditions for bonus eligibility\n",
    "    if performance_rating.lower() == \"excellent\" and years_of_service >= 5:\n",
    "        return \"Eligible for bonus\"\n",
    "    elif performance_rating.lower() == \"good\" and years_of_service >= 10:\n",
    "        return \"Eligible for bonus\"\n",
    "    elif performance_rating.lower() == \"satisfactory\" or years_of_service >= 15:\n",
    "        return \"Eligible for bonus\"\n",
    "    else:\n",
    "        return \"Not eligible for bonus\"\n"
   ]
  },
  {
   "cell_type": "code",
   "execution_count": 1,
   "id": "53c6f545",
   "metadata": {},
   "outputs": [
    {
     "name": "stdout",
     "output_type": "stream",
     "text": [
      "Modified text: I'm_learning_Python_programming\n",
      "Number of underscores: 3\n",
      "Position of the first underscore: 3\n"
     ]
    }
   ],
   "source": [
    "## Question 5\n",
    "\n",
    "# Text input\n",
    "text = \"I'm learning Python programming\"\n",
    "\n",
    "# Replace spaces with underscores\n",
    "modified_text = text.replace(\" \", \"_\")\n",
    "\n",
    "# Count the number of underscores\n",
    "underscore_count = modified_text.count(\"_\")\n",
    "\n",
    "# Find the position of the first underscore (0-based index)\n",
    "first_underscore_position = modified_text.find(\"_\")\n",
    "\n",
    "# Display results\n",
    "print(f\"Modified text: {modified_text}\")\n",
    "print(f\"Number of underscores: {underscore_count}\")\n",
    "print(f\"Position of the first underscore: {first_underscore_position}\")\n"
   ]
  },
  {
   "cell_type": "code",
   "execution_count": 2,
   "id": "b04d315b",
   "metadata": {},
   "outputs": [
    {
     "name": "stdout",
     "output_type": "stream",
     "text": [
      "Enter a string: fahad\n",
      "All characters except the last 3: fa\n",
      "Every second character: fhd\n",
      "String in reverse: dahaf\n"
     ]
    }
   ],
   "source": [
    "## Question 6\n",
    "\n",
    "# Input string from the user\n",
    "input_string = input(\"Enter a string: \")\n",
    "\n",
    "# Print all characters except the last 3\n",
    "except_last_three = input_string[:-3]\n",
    "print(f\"All characters except the last 3: {except_last_three}\")\n",
    "\n",
    "# Print every second character\n",
    "every_second_character = input_string[::2]\n",
    "print(f\"Every second character: {every_second_character}\")\n",
    "\n",
    "# Print the string in reverse\n",
    "reversed_string = input_string[::-1]\n",
    "print(f\"String in reverse: {reversed_string}\")\n"
   ]
  },
  {
   "cell_type": "code",
   "execution_count": 4,
   "id": "22d0b448",
   "metadata": {},
   "outputs": [
    {
     "name": "stdout",
     "output_type": "stream",
     "text": [
      "Original sentence: Hello World, We are learning Python\n",
      "Reversed sentence: Python learning are We World, Hello\n"
     ]
    }
   ],
   "source": [
    "## Question 7\n",
    "\n",
    "# Input text\n",
    "text = \"Hello World, We are learning Python\"\n",
    "\n",
    "# Split the sentence into words\n",
    "words = text.split()\n",
    "\n",
    "# Reverse the order of the words\n",
    "reversed_words = words[::-1]\n",
    "\n",
    "# Join the reversed words into a new sentence\n",
    "reversed_sentence = \" \".join(reversed_words)\n",
    "\n",
    "# Display the result\n",
    "print(f\"Original sentence: {text}\")\n",
    "print(f\"Reversed sentence: {reversed_sentence}\")\n"
   ]
  },
  {
   "cell_type": "code",
   "execution_count": 5,
   "id": "53c63894",
   "metadata": {},
   "outputs": [
    {
     "name": "stdout",
     "output_type": "stream",
     "text": [
      "Extracted number: 12345\n"
     ]
    }
   ],
   "source": [
    "## Question 9\n",
    "# Input product code\n",
    "product_code = \"SKU-12345-XYZ\"\n",
    "\n",
    "# Remove \"SKU-\" and \"-XYZ\"\n",
    "number = product_code.replace(\"SKU-\", \"\").replace(\"-XYZ\", \"\")\n",
    "\n",
    "# Display the extracted number\n",
    "print(f\"Extracted number: {number}\")\n"
   ]
  },
  {
   "cell_type": "code",
   "execution_count": 15,
   "id": "15bfb478",
   "metadata": {},
   "outputs": [
    {
     "ename": "IndentationError",
     "evalue": "unexpected indent (861014240.py, line 6)",
     "output_type": "error",
     "traceback": [
      "\u001b[1;36m  Cell \u001b[1;32mIn[15], line 6\u001b[1;36m\u001b[0m\n\u001b[1;33m    words = text.split()\u001b[0m\n\u001b[1;37m    ^\u001b[0m\n\u001b[1;31mIndentationError\u001b[0m\u001b[1;31m:\u001b[0m unexpected indent\n"
     ]
    }
   ],
   "source": [
    "text=''\n",
    "words=''\n",
    "# Input string\n",
    "input_text = input(\"Enter a string: \")\n",
    "    # Split the string into words\n",
    "    words = text.split()\n",
    "    \n",
    "    # Find the longest word using max() with key=len\n",
    "    longest_word = max(words, key=len)\n",
    "    \n",
    "    return longest_word\n",
    "\n",
    "\n",
    "\n",
    "# Find and display the longest word\n",
    "longest = find_longest_word(input_text)\n",
    "print(f\"The longest word is: {longest}\")\n"
   ]
  },
  {
   "cell_type": "code",
   "execution_count": null,
   "id": "3517f62f",
   "metadata": {},
   "outputs": [],
   "source": []
  }
 ],
 "metadata": {
  "kernelspec": {
   "display_name": "Python 3 (ipykernel)",
   "language": "python",
   "name": "python3"
  },
  "language_info": {
   "codemirror_mode": {
    "name": "ipython",
    "version": 3
   },
   "file_extension": ".py",
   "mimetype": "text/x-python",
   "name": "python",
   "nbconvert_exporter": "python",
   "pygments_lexer": "ipython3",
   "version": "3.11.4"
  }
 },
 "nbformat": 4,
 "nbformat_minor": 5
}
