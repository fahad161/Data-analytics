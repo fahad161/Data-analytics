{
 "cells": [
  {
   "cell_type": "markdown",
   "id": "dc084e95",
   "metadata": {},
   "source": [
    "# variables\n"
   ]
  },
  {
   "cell_type": "code",
   "execution_count": 1,
   "id": "d900a613",
   "metadata": {},
   "outputs": [],
   "source": [
    "a_ = 5"
   ]
  },
  {
   "cell_type": "code",
   "execution_count": 8,
   "id": "0842bf0e",
   "metadata": {},
   "outputs": [],
   "source": []
  },
  {
   "cell_type": "code",
   "execution_count": 9,
   "id": "d899418e",
   "metadata": {},
   "outputs": [
    {
     "ename": "NameError",
     "evalue": "name 'bol_d' is not defined",
     "output_type": "error",
     "traceback": [
      "\u001b[1;31m---------------------------------------------------------------------------\u001b[0m",
      "\u001b[1;31mNameError\u001b[0m                                 Traceback (most recent call last)",
      "Cell \u001b[1;32mIn[9], line 1\u001b[0m\n\u001b[1;32m----> 1\u001b[0m bol_d\n",
      "\u001b[1;31mNameError\u001b[0m: name 'bol_d' is not defined"
     ]
    }
   ],
   "source": [
    "bol_d"
   ]
  },
  {
   "cell_type": "code",
   "execution_count": 10,
   "id": "d1c63889",
   "metadata": {},
   "outputs": [],
   "source": [
    "bol_d =2"
   ]
  },
  {
   "cell_type": "code",
   "execution_count": 11,
   "id": "53268eb8",
   "metadata": {},
   "outputs": [
    {
     "data": {
      "text/plain": [
       "2"
      ]
     },
     "execution_count": 11,
     "metadata": {},
     "output_type": "execute_result"
    }
   ],
   "source": [
    "bol_d"
   ]
  },
  {
   "cell_type": "code",
   "execution_count": 13,
   "id": "80e22b17",
   "metadata": {},
   "outputs": [],
   "source": [
    "A = 2\n",
    "B = 3\n",
    "C = 4"
   ]
  },
  {
   "cell_type": "code",
   "execution_count": 14,
   "id": "25a71b02",
   "metadata": {},
   "outputs": [],
   "source": [
    "D= A*C/B"
   ]
  },
  {
   "cell_type": "code",
   "execution_count": 15,
   "id": "21b227b3",
   "metadata": {},
   "outputs": [
    {
     "data": {
      "text/plain": [
       "2.6666666666666665"
      ]
     },
     "execution_count": 15,
     "metadata": {},
     "output_type": "execute_result"
    }
   ],
   "source": [
    "D"
   ]
  },
  {
   "cell_type": "code",
   "execution_count": 16,
   "id": "c78d8f85",
   "metadata": {},
   "outputs": [
    {
     "data": {
      "text/plain": [
       "float"
      ]
     },
     "execution_count": 16,
     "metadata": {},
     "output_type": "execute_result"
    }
   ],
   "source": [
    "type(D)"
   ]
  },
  {
   "cell_type": "code",
   "execution_count": 17,
   "id": "01f32f3b",
   "metadata": {},
   "outputs": [
    {
     "data": {
      "text/plain": [
       "2"
      ]
     },
     "execution_count": 17,
     "metadata": {},
     "output_type": "execute_result"
    }
   ],
   "source": [
    "int(D)"
   ]
  },
  {
   "cell_type": "code",
   "execution_count": null,
   "id": "daced405",
   "metadata": {},
   "outputs": [],
   "source": [
    "salary =20000\n",
    "sa"
   ]
  }
 ],
 "metadata": {
  "kernelspec": {
   "display_name": "Python 3 (ipykernel)",
   "language": "python",
   "name": "python3"
  },
  "language_info": {
   "codemirror_mode": {
    "name": "ipython",
    "version": 3
   },
   "file_extension": ".py",
   "mimetype": "text/x-python",
   "name": "python",
   "nbconvert_exporter": "python",
   "pygments_lexer": "ipython3",
   "version": "3.11.4"
  }
 },
 "nbformat": 4,
 "nbformat_minor": 5
}
