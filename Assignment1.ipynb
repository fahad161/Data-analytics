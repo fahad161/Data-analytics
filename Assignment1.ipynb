{
 "cells": [
  {
   "cell_type": "markdown",
   "id": "801980ab",
   "metadata": {},
   "source": [
    "# LIST\n"
   ]
  },
  {
   "cell_type": "code",
   "execution_count": 1,
   "id": "677c89ef",
   "metadata": {},
   "outputs": [],
   "source": [
    "salaries = ['20k','40k','50k','60k','35k','89k','40k']"
   ]
  },
  {
   "cell_type": "code",
   "execution_count": 2,
   "id": "cddd7e40",
   "metadata": {},
   "outputs": [
    {
     "data": {
      "text/plain": [
       "7"
      ]
     },
     "execution_count": 2,
     "metadata": {},
     "output_type": "execute_result"
    }
   ],
   "source": [
    "len(salaries)"
   ]
  },
  {
   "cell_type": "code",
   "execution_count": 4,
   "id": "cc04b699",
   "metadata": {},
   "outputs": [
    {
     "data": {
      "text/plain": [
       "'60k'"
      ]
     },
     "execution_count": 4,
     "metadata": {},
     "output_type": "execute_result"
    }
   ],
   "source": [
    "##Positive Indexing\n",
    "salaries [3]"
   ]
  },
  {
   "cell_type": "code",
   "execution_count": 6,
   "id": "9c7ba58a",
   "metadata": {},
   "outputs": [
    {
     "data": {
      "text/plain": [
       "'20k'"
      ]
     },
     "execution_count": 6,
     "metadata": {},
     "output_type": "execute_result"
    }
   ],
   "source": [
    "##Reversable Indexing\n",
    "salaries [-7]"
   ]
  },
  {
   "cell_type": "code",
   "execution_count": 8,
   "id": "36ca97f4",
   "metadata": {},
   "outputs": [
    {
     "data": {
      "text/plain": [
       "['50k', '60k', '35k']"
      ]
     },
     "execution_count": 8,
     "metadata": {},
     "output_type": "execute_result"
    }
   ],
   "source": [
    "##Slicing\n",
    "salaries [2:5]"
   ]
  },
  {
   "cell_type": "code",
   "execution_count": 19,
   "id": "817c0b5d",
   "metadata": {},
   "outputs": [],
   "source": [
    "##Append method\n",
    "salaries= ['20k','40k','50k','60k','35k','89k','40k']\n",
    "salaries.append('100k')"
   ]
  },
  {
   "cell_type": "code",
   "execution_count": 20,
   "id": "bf22c32f",
   "metadata": {},
   "outputs": [
    {
     "data": {
      "text/plain": [
       "['20k', '40k', '50k', '60k', '35k', '89k', '40k', '100k']"
      ]
     },
     "execution_count": 20,
     "metadata": {},
     "output_type": "execute_result"
    }
   ],
   "source": [
    "salaries"
   ]
  },
  {
   "cell_type": "code",
   "execution_count": 21,
   "id": "2db47de6",
   "metadata": {},
   "outputs": [
    {
     "data": {
      "text/plain": [
       "['20k', '40k', '50k', '60k', '35k', '89k', '40k', '100k', '120k']"
      ]
     },
     "execution_count": 21,
     "metadata": {},
     "output_type": "execute_result"
    }
   ],
   "source": [
    "##add value without method\n",
    "salaries = salaries + ['120k']\n",
    "salaries"
   ]
  },
  {
   "cell_type": "code",
   "execution_count": 28,
   "id": "5c8272ae",
   "metadata": {},
   "outputs": [
    {
     "data": {
      "text/plain": [
       "['20k', '40k', '50k', '55k', '35k', '89k', '40k', '100k', '120k']"
      ]
     },
     "execution_count": 28,
     "metadata": {},
     "output_type": "execute_result"
    }
   ],
   "source": [
    "##changing values in a list\n",
    "salaries[3]='55k'\n",
    "salaries"
   ]
  },
  {
   "cell_type": "code",
   "execution_count": 27,
   "id": "d795673a",
   "metadata": {},
   "outputs": [
    {
     "name": "stdout",
     "output_type": "stream",
     "text": [
      "2\n"
     ]
    }
   ],
   "source": [
    "##count values\n",
    "count=salaries.count('40k')\n",
    "print(count)"
   ]
  },
  {
   "cell_type": "code",
   "execution_count": 33,
   "id": "527d5b55",
   "metadata": {},
   "outputs": [],
   "source": [
    "##insert \n",
    "sal =['10k']\n",
    "salaries = salaries[:2] + sal + salaries[2:]\n"
   ]
  },
  {
   "cell_type": "code",
   "execution_count": 34,
   "id": "889fd229",
   "metadata": {},
   "outputs": [
    {
     "data": {
      "text/plain": [
       "['20k', '40k', '10k', '50k', '55k', '35k', '89k', '40k', '100k', '120k']"
      ]
     },
     "execution_count": 34,
     "metadata": {},
     "output_type": "execute_result"
    }
   ],
   "source": [
    "salaries"
   ]
  },
  {
   "cell_type": "code",
   "execution_count": 35,
   "id": "c0fe4709",
   "metadata": {},
   "outputs": [
    {
     "data": {
      "text/plain": [
       "['20k',\n",
       " '40k',\n",
       " ['10k'],\n",
       " '10k',\n",
       " '50k',\n",
       " '55k',\n",
       " '35k',\n",
       " '89k',\n",
       " '40k',\n",
       " '100k',\n",
       " '120k']"
      ]
     },
     "execution_count": 35,
     "metadata": {},
     "output_type": "execute_result"
    }
   ],
   "source": [
    "sal =['10k']\n",
    "salaries.insert(2,sal)\n",
    "salaries"
   ]
  },
  {
   "cell_type": "code",
   "execution_count": 36,
   "id": "f1ac3e12",
   "metadata": {},
   "outputs": [
    {
     "data": {
      "text/plain": [
       "['120k',\n",
       " '100k',\n",
       " '40k',\n",
       " '89k',\n",
       " '35k',\n",
       " '55k',\n",
       " '50k',\n",
       " '10k',\n",
       " ['10k'],\n",
       " '40k',\n",
       " '20k']"
      ]
     },
     "execution_count": 36,
     "metadata": {},
     "output_type": "execute_result"
    }
   ],
   "source": [
    "##reverse function\n",
    "salaries.reverse()\n",
    "salaries"
   ]
  },
  {
   "cell_type": "code",
   "execution_count": 37,
   "id": "ba0cb01e",
   "metadata": {},
   "outputs": [
    {
     "data": {
      "text/plain": [
       "['20k',\n",
       " '40k',\n",
       " ['10k'],\n",
       " '10k',\n",
       " '50k',\n",
       " '55k',\n",
       " '35k',\n",
       " '89k',\n",
       " '40k',\n",
       " '100k',\n",
       " '120k']"
      ]
     },
     "execution_count": 37,
     "metadata": {},
     "output_type": "execute_result"
    }
   ],
   "source": [
    "## reverse without function\n",
    "salaries =salaries[::-1]\n",
    "salaries"
   ]
  },
  {
   "cell_type": "code",
   "execution_count": null,
   "id": "29a4bec6",
   "metadata": {},
   "outputs": [],
   "source": []
  }
 ],
 "metadata": {
  "kernelspec": {
   "display_name": "Python 3 (ipykernel)",
   "language": "python",
   "name": "python3"
  },
  "language_info": {
   "codemirror_mode": {
    "name": "ipython",
    "version": 3
   },
   "file_extension": ".py",
   "mimetype": "text/x-python",
   "name": "python",
   "nbconvert_exporter": "python",
   "pygments_lexer": "ipython3",
   "version": "3.11.4"
  }
 },
 "nbformat": 4,
 "nbformat_minor": 5
}
